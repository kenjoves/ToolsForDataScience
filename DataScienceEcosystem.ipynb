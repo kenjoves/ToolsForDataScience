{
 "cells": [
  {
   "cell_type": "markdown",
   "id": "7a6ddb16",
   "metadata": {},
   "source": [
    "# Data Science Tools and Ecosystem"
   ]
  },
  {
   "cell_type": "markdown",
   "id": "785e23f9",
   "metadata": {},
   "source": [
    "In this notebook, Data Science Tools and Ecosystem are summarized."
   ]
  },
  {
   "cell_type": "markdown",
   "id": "53fc6bcd",
   "metadata": {},
   "source": [
    "Some of the popular languages that Data Scientists use are:\n",
    "\n",
    "1. Python\n",
    "2. R\n",
    "3. SQL"
   ]
  },
  {
   "cell_type": "markdown",
   "id": "1ded7fad",
   "metadata": {},
   "source": [
    "Some of the commonly used libraries used by Data Scientists include:\n",
    "\n",
    "1. ggplot2 (R)\n",
    "2. Matplotlib (Python)\n",
    "3. pandas (Python)"
   ]
  },
  {
   "cell_type": "markdown",
   "id": "7f60b876",
   "metadata": {},
   "source": [
    "| Data Science Tools |\n",
    "-------------------------\n",
    "| Anaconda | \n",
    "|Jupyter Notebooks | \n",
    "| RStudio |"
   ]
  },
  {
   "cell_type": "markdown",
   "id": "417775bd",
   "metadata": {},
   "source": [
    "### Below are a few examples of evaluating arithmetic expressions in Python."
   ]
  },
  {
   "cell_type": "code",
   "execution_count": 4,
   "id": "13e4c04e",
   "metadata": {},
   "outputs": [
    {
     "data": {
      "text/plain": [
       "17"
      ]
     },
     "execution_count": 4,
     "metadata": {},
     "output_type": "execute_result"
    }
   ],
   "source": [
    "# This is a simple arithmetic expression to multiply then add integers.\n",
    "(3*4) + 5"
   ]
  },
  {
   "cell_type": "code",
   "execution_count": 5,
   "id": "a0f5444d",
   "metadata": {},
   "outputs": [
    {
     "data": {
      "text/plain": [
       "3.3333333333333335"
      ]
     },
     "execution_count": 5,
     "metadata": {},
     "output_type": "execute_result"
    }
   ],
   "source": [
    "# This will convert 200 minutes to hours by dividing by 60.\n",
    "200/60"
   ]
  },
  {
   "cell_type": "markdown",
   "id": "e75f8a22",
   "metadata": {},
   "source": [
    "__Objectives:__\n",
    "* Learn popular languages used in Data Science.\n",
    "* Understand how to use some of the common tools used in Data Science like Jupyter Notebooks and RStudio.\n",
    "* Get started with learning how to use repositories like Github."
   ]
  },
  {
   "cell_type": "markdown",
   "id": "542aa3c0",
   "metadata": {},
   "source": [
    "## Author\n",
    "Ken Joves"
   ]
  }
 ],
 "metadata": {
  "kernelspec": {
   "display_name": "Python 3 (ipykernel)",
   "language": "python",
   "name": "python3"
  },
  "language_info": {
   "codemirror_mode": {
    "name": "ipython",
    "version": 3
   },
   "file_extension": ".py",
   "mimetype": "text/x-python",
   "name": "python",
   "nbconvert_exporter": "python",
   "pygments_lexer": "ipython3",
   "version": "3.11.5"
  }
 },
 "nbformat": 4,
 "nbformat_minor": 5
}
